{
 "cells": [
  {
   "cell_type": "code",
   "execution_count": 23,
   "metadata": {
    "collapsed": false,
    "deletable": true,
    "editable": true
   },
   "outputs": [],
   "source": [
    "import json\n",
    "import sys\n",
    "import os\n",
    "sys.path.append(os.path.join(os.getcwd(),'..','..'))\n",
    "import watson_developer_cloud"
   ]
  },
  {
   "cell_type": "code",
   "execution_count": 14,
   "metadata": {
    "collapsed": true,
    "deletable": true,
    "editable": true
   },
   "outputs": [],
   "source": [
    "USERNAME = os.environ.get('CONVERSATION_USERNAME','<USERNAME>')\n",
    "PASSWORD = os.environ.get('CONVERSATION_PASSWORD','<PASSWORD>')"
   ]
  },
  {
   "cell_type": "code",
   "execution_count": 15,
   "metadata": {
    "collapsed": false,
    "deletable": true,
    "editable": true
   },
   "outputs": [],
   "source": [
    "conversation = watson_developer_cloud.ConversationV1(username=USERNAME,\n",
    "                                                     password=PASSWORD,\n",
    "                                                     version='2016-09-20')"
   ]
  },
  {
   "cell_type": "code",
   "execution_count": 28,
   "metadata": {
    "collapsed": false,
    "deletable": true,
    "editable": true
   },
   "outputs": [
    {
     "data": {
      "text/plain": [
       "{'pagination': {'refresh_url': '/v1/workspaces?version=2016-09-20'},\n",
       " 'workspaces': [{'created': '2017-02-09T19:46:26.792Z',\n",
       "   'description': 'yo dawg',\n",
       "   'language': 'en',\n",
       "   'metadata': None,\n",
       "   'name': 'development',\n",
       "   'updated': '2017-02-09T20:00:38.558Z',\n",
       "   'workspace_id': '8c8ee3b3-6149-4bc0-ba66-6517fd6c976a'}]}"
      ]
     },
     "execution_count": 28,
     "metadata": {},
     "output_type": "execute_result"
    }
   ],
   "source": [
    "conversation.list_workspaces()"
   ]
  },
  {
   "cell_type": "code",
   "execution_count": 29,
   "metadata": {
    "collapsed": false,
    "deletable": true,
    "editable": true
   },
   "outputs": [
    {
     "name": "stdout",
     "output_type": "stream",
     "text": [
      "{'name': 'my experimental workspace', 'created': '2017-02-09T21:48:35.245Z', 'updated': '2017-02-09T21:48:35.245Z', 'language': 'en', 'metadata': None, 'description': 'an experimental workspace', 'workspace_id': 'dbd1211f-3abb-4165-8a67-8bfa95410aa9'}\n"
     ]
    }
   ],
   "source": [
    "new_workspace = conversation.create_workspace(name='my experimental workspace',\n",
    "                                              description='an experimental workspace',\n",
    "                                              language='en',\n",
    "                                              intents=[{\n",
    "                                                      \"intent\": \"orderpizza\",\n",
    "                                                      \"examples\": [\n",
    "                                                            {\n",
    "                                                              \"text\": \"can I order a pizza?\"\n",
    "                                                            },\n",
    "                                                            {\n",
    "                                                              \"text\": \"I want to order a pizza\"\n",
    "                                                            },\n",
    "                                                            {\n",
    "                                                              \"text\": \"pizza order\"\n",
    "                                                            },\n",
    "                                                            {\n",
    "                                                              \"text\": \"pizza to go\"\n",
    "                                                            }\n",
    "                                                          ],\n",
    "                                                          \"description\": \"pizza intents\"\n",
    "                                                        }\n",
    "                                               ],\n",
    "                                              dialog_nodes=[{'conditions': '#orderpizza',\n",
    "                                                             'context': None,\n",
    "                                                             'description': None,\n",
    "                                                             'dialog_node': 'YesYouCan',\n",
    "                                                             'go_to': None,\n",
    "                                                             'metadata': None,\n",
    "                                                             'output':  {'text': {'selection_policy': 'random',\n",
    "                                                                                   'values': \n",
    "                                                                                   ['Yes You can!', 'Of course!']}},\n",
    "                                                             'parent': None,\n",
    "                                                             'previous_sibling': None,}])\n",
    "print(new_workspace)"
   ]
  },
  {
   "cell_type": "code",
   "execution_count": 31,
   "metadata": {
    "collapsed": false,
    "deletable": true,
    "editable": true
   },
   "outputs": [
    {
     "data": {
      "text/plain": [
       "{'created': '2017-02-09T21:48:35.245Z',\n",
       " 'description': 'an experimental workspace',\n",
       " 'language': 'en',\n",
       " 'metadata': None,\n",
       " 'name': 'my experimental workspace',\n",
       " 'status': 'Training',\n",
       " 'updated': '2017-02-09T21:48:35.245Z',\n",
       " 'workspace_id': 'dbd1211f-3abb-4165-8a67-8bfa95410aa9'}"
      ]
     },
     "execution_count": 31,
     "metadata": {},
     "output_type": "execute_result"
    }
   ],
   "source": [
    "conversation.get_workspace(workspace_id=new_workspace['workspace_id'])"
   ]
  },
  {
   "cell_type": "code",
   "execution_count": 20,
   "metadata": {
    "collapsed": false,
    "deletable": true,
    "editable": true
   },
   "outputs": [
    {
     "data": {
      "text/plain": [
       "{'created': '2017-02-09T21:39:30.390Z',\n",
       " 'description': 'an experimental workspace',\n",
       " 'language': 'en',\n",
       " 'metadata': None,\n",
       " 'name': 'changed name',\n",
       " 'updated': '2017-02-09T21:39:59.124Z',\n",
       " 'workspace_id': '66e78807-13fa-47ae-9251-dd8c89c8fd19'}"
      ]
     },
     "execution_count": 20,
     "metadata": {},
     "output_type": "execute_result"
    }
   ],
   "source": [
    "new_workspace['name'] = 'changed name'\n",
    "conversation.update_workspace(new_workspace['workspace_id'], name=new_workspace['name'])"
   ]
  },
  {
   "cell_type": "code",
   "execution_count": 32,
   "metadata": {
    "collapsed": false,
    "deletable": true,
    "editable": true
   },
   "outputs": [
    {
     "data": {
      "text/plain": [
       "{'counterexamples': [],\n",
       " 'created': '2017-02-09T21:48:35.245Z',\n",
       " 'description': 'an experimental workspace',\n",
       " 'dialog_nodes': [{'conditions': '#orderpizza',\n",
       "   'context': None,\n",
       "   'created': '2017-02-09T21:48:35.245Z',\n",
       "   'description': None,\n",
       "   'dialog_node': 'YesYouCan',\n",
       "   'go_to': None,\n",
       "   'metadata': None,\n",
       "   'output': {'text': {'selection_policy': 'random',\n",
       "     'values': ['Yes You can!', 'Of course!']}},\n",
       "   'parent': None,\n",
       "   'previous_sibling': None,\n",
       "   'updated': '2017-02-09T21:48:35.245Z'}],\n",
       " 'entities': [],\n",
       " 'intents': [{'created': '2017-02-09T21:48:35.245Z',\n",
       "   'description': 'pizza intents',\n",
       "   'examples': [{'created': '2017-02-09T21:48:35.245Z',\n",
       "     'text': 'can I order a pizza?',\n",
       "     'updated': '2017-02-09T21:48:35.245Z'},\n",
       "    {'created': '2017-02-09T21:48:35.245Z',\n",
       "     'text': 'I want to order a pizza',\n",
       "     'updated': '2017-02-09T21:48:35.245Z'},\n",
       "    {'created': '2017-02-09T21:48:35.245Z',\n",
       "     'text': 'pizza order',\n",
       "     'updated': '2017-02-09T21:48:35.245Z'},\n",
       "    {'created': '2017-02-09T21:48:35.245Z',\n",
       "     'text': 'pizza to go',\n",
       "     'updated': '2017-02-09T21:48:35.245Z'}],\n",
       "   'intent': 'orderpizza',\n",
       "   'updated': '2017-02-09T21:48:35.245Z'}],\n",
       " 'language': 'en',\n",
       " 'metadata': None,\n",
       " 'name': 'my experimental workspace',\n",
       " 'status': 'Available',\n",
       " 'updated': '2017-02-09T21:48:35.245Z',\n",
       " 'workspace_id': 'dbd1211f-3abb-4165-8a67-8bfa95410aa9'}"
      ]
     },
     "execution_count": 32,
     "metadata": {},
     "output_type": "execute_result"
    }
   ],
   "source": [
    "conversation.get_workspace(new_workspace['workspace_id'], export=True)"
   ]
  },
  {
   "cell_type": "code",
   "execution_count": 34,
   "metadata": {
    "collapsed": false,
    "deletable": true,
    "editable": true
   },
   "outputs": [
    {
     "name": "stdout",
     "output_type": "stream",
     "text": [
      "{\n",
      "  \"intents\": [\n",
      "    {\n",
      "      \"intent\": \"orderpizza\",\n",
      "      \"confidence\": 1\n",
      "    }\n",
      "  ],\n",
      "  \"entities\": [],\n",
      "  \"input\": {\n",
      "    \"text\": \"can I order a pizza?\"\n",
      "  },\n",
      "  \"output\": {\n",
      "    \"log_messages\": [],\n",
      "    \"text\": [\n",
      "      \"Of course!\"\n",
      "    ],\n",
      "    \"nodes_visited\": [\n",
      "      \"YesYouCan\"\n",
      "    ]\n",
      "  },\n",
      "  \"context\": {\n",
      "    \"conversation_id\": \"972f212d-be0f-47fd-a82d-a6f917e16cfd\",\n",
      "    \"system\": {\n",
      "      \"dialog_stack\": [\n",
      "        {\n",
      "          \"dialog_node\": \"root\"\n",
      "        }\n",
      "      ],\n",
      "      \"dialog_turn_counter\": 1,\n",
      "      \"dialog_request_counter\": 1,\n",
      "      \"_node_output_map\": {\n",
      "        \"YesYouCan\": [\n",
      "          0,\n",
      "          1,\n",
      "          0\n",
      "        ]\n",
      "      }\n",
      "    }\n",
      "  },\n",
      "  \"alternate_intents\": false\n",
      "}\n"
     ]
    }
   ],
   "source": [
    "response = conversation.message(workspace_id=new_workspace['workspace_id'],\n",
    "                                message_input={'text': 'can I order a pizza?'})\n",
    "print(json.dumps(response, indent=2))"
   ]
  },
  {
   "cell_type": "code",
   "execution_count": 35,
   "metadata": {
    "collapsed": false,
    "deletable": true,
    "editable": true
   },
   "outputs": [
    {
     "data": {
      "text/plain": [
       "{}"
      ]
     },
     "execution_count": 35,
     "metadata": {},
     "output_type": "execute_result"
    }
   ],
   "source": [
    "conversation.delete_workspace(new_workspace['workspace_id'])"
   ]
  }
 ],
 "metadata": {
  "kernelspec": {
   "display_name": "Python 3",
   "language": "python",
   "name": "python3"
  },
  "language_info": {
   "codemirror_mode": {
    "name": "ipython",
    "version": 3
   },
   "file_extension": ".py",
   "mimetype": "text/x-python",
   "name": "python",
   "nbconvert_exporter": "python",
   "pygments_lexer": "ipython3",
   "version": "3.6.0"
  }
 },
 "nbformat": 4,
 "nbformat_minor": 2
}
